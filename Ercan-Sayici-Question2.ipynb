{
 "cells": [
  {
   "cell_type": "code",
   "execution_count": 3,
   "metadata": {},
   "outputs": [
    {
     "data": {
      "text/plain": [
       "[('Taipei-Asunción', 19933.31283103459),\n",
       " ('Adamstown-Manama', 19876.418028651835),\n",
       " ('Madrid-Wellington', 19861.008143692714),\n",
       " ('Doha-Adamstown', 19856.630380263494),\n",
       " ('Mata-Utu-Niamey', 19833.509620968)]"
      ]
     },
     "execution_count": 3,
     "metadata": {},
     "output_type": "execute_result"
    }
   ],
   "source": [
    "from pyspark import SparkContext\n",
    "from math import sin,cos,sqrt,atan2,radians\n",
    "sc = SparkContext.getOrCreate()\n",
    "rdd = sc.textFile(\"/home/ercan/Desktop/hadoop/datasets/Capitals.txt\")\n",
    "\n",
    "def splitAndMakeTuple(satir):\n",
    "    arr = satir.split(\"\\t\")\n",
    "    country = arr[2].strip()\n",
    "    lat = float(arr[3].strip())\n",
    "    long = float(arr[4].strip())\n",
    "    return (country,(lat,long))\n",
    "\n",
    "rdd  = rdd.map(lambda line:line.replace(\".\",\"\").replace(\",\",\".\"))\n",
    "rdd1 = rdd.map(lambda line : splitAndMakeTuple(line) )\n",
    "\n",
    "rdd2 = rdd1\n",
    "\n",
    "car_rdd = rdd1.cartesian(rdd2)\n",
    "\n",
    "def cal_dis(loc_1,loc_2):\n",
    "    R=6373.0\n",
    "    \n",
    "    lat1=radians(loc_1[0])\n",
    "    lon1=radians(loc_1[1])\n",
    "    lat2=radians(loc_2[0])\n",
    "    lon2=radians(loc_2[1])\n",
    "    \n",
    "    dlon = lon2-lon1\n",
    "    dlat = lat2-lat1\n",
    "    a=sin(dlat/2)**2 + cos(lat1)*cos(lat2)*sin(dlon/2)**2\n",
    "    c = 2*atan2(sqrt(a),sqrt(1-a))\n",
    "    distance=R*c\n",
    "    return distance\n",
    "\n",
    "dis_rdd = car_rdd.map(lambda x: ((x[0][0]+\"-\"+x[1][0]), cal_dis(x[0][1],x[1][1])))\n",
    "\n",
    "dis_rdd = dis_rdd.filter(lambda x: x[1] > 0)\n",
    "\n",
    "sortedRDD = dis_rdd.sortBy(lambda rdd :rdd[1],ascending=False)\n",
    "\n",
    "rdd3 = sortedRDD.zipWithIndex().map(lambda x : (x[1],x[0]))\n",
    "\n",
    "rdd4 = rdd3.map(lambda x: (x[0]+1,x[1]))\n",
    "\n",
    "rdd4 = rdd4.filter(lambda x: x[0]%2 ==0)\n",
    "\n",
    "rdd4 = rdd4.map(lambda x: x[1])\n",
    "rdd4.take(5)"
   ]
  }
 ],
 "metadata": {
  "kernelspec": {
   "display_name": "Python 3",
   "language": "python",
   "name": "python3"
  },
  "language_info": {
   "codemirror_mode": {
    "name": "ipython",
    "version": 3
   },
   "file_extension": ".py",
   "mimetype": "text/x-python",
   "name": "python",
   "nbconvert_exporter": "python",
   "pygments_lexer": "ipython3",
   "version": "3.7.3"
  }
 },
 "nbformat": 4,
 "nbformat_minor": 2
}
