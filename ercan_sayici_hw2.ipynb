{
 "cells": [
  {
   "cell_type": "code",
   "execution_count": 1,
   "metadata": {},
   "outputs": [
    {
     "name": "stdout",
     "output_type": "stream",
     "text": [
      "+-----+---+-------+------+-------+-------+-------+-------+---------+---------+-------+--------+---------+---------+---------+-------+\n",
      "|label|_c1|    _c2|   _c3|    _c4|    _c5|    _c6|    _c7|      _c8|      _c9|   _c10|    _c11|     _c12|     _c13|     _c14|   _c15|\n",
      "+-----+---+-------+------+-------+-------+-------+-------+---------+---------+-------+--------+---------+---------+---------+-------+\n",
      "|    1|  1|0.72694|1.4742|0.32396|0.98535|    1.0|0.83592|0.0046566|0.0039465|0.04779| 0.12795| 0.016108|0.0052323|2.7477E-4| 1.1756|\n",
      "|    1|  2|0.74173|1.5257|0.36116|0.98152|0.99825|0.79867|0.0052423|0.0050016|0.02416|0.090476|0.0081195| 0.002708|7.4846E-5|0.69659|\n",
      "+-----+---+-------+------+-------+-------+-------+-------+---------+---------+-------+--------+---------+---------+---------+-------+\n",
      "only showing top 2 rows\n",
      "\n",
      "root\n",
      " |-- label: integer (nullable = true)\n",
      " |-- _c1: integer (nullable = true)\n",
      " |-- _c2: double (nullable = true)\n",
      " |-- _c3: double (nullable = true)\n",
      " |-- _c4: double (nullable = true)\n",
      " |-- _c5: double (nullable = true)\n",
      " |-- _c6: double (nullable = true)\n",
      " |-- _c7: double (nullable = true)\n",
      " |-- _c8: double (nullable = true)\n",
      " |-- _c9: double (nullable = true)\n",
      " |-- _c10: double (nullable = true)\n",
      " |-- _c11: double (nullable = true)\n",
      " |-- _c12: double (nullable = true)\n",
      " |-- _c13: double (nullable = true)\n",
      " |-- _c14: double (nullable = true)\n",
      " |-- _c15: double (nullable = true)\n",
      "\n",
      "+-----+-------+------+-------+-------+-------+-------+---------+---------+-------+--------+---------+---------+---------+-------+\n",
      "|label|    _c2|   _c3|    _c4|    _c5|    _c6|    _c7|      _c8|      _c9|   _c10|    _c11|     _c12|     _c13|     _c14|   _c15|\n",
      "+-----+-------+------+-------+-------+-------+-------+---------+---------+-------+--------+---------+---------+---------+-------+\n",
      "|    1|0.72694|1.4742|0.32396|0.98535|    1.0|0.83592|0.0046566|0.0039465|0.04779| 0.12795| 0.016108|0.0052323|2.7477E-4| 1.1756|\n",
      "|    1|0.74173|1.5257|0.36116|0.98152|0.99825|0.79867|0.0052423|0.0050016|0.02416|0.090476|0.0081195| 0.002708|7.4846E-5|0.69659|\n",
      "+-----+-------+------+-------+-------+-------+-------+---------+---------+-------+--------+---------+---------+---------+-------+\n",
      "only showing top 2 rows\n",
      "\n",
      "+--------------------+-----+\n",
      "|            features|label|\n",
      "+--------------------+-----+\n",
      "|[0.72694,1.4742,0...|    1|\n",
      "|[0.74173,1.5257,0...|    1|\n",
      "+--------------------+-----+\n",
      "only showing top 2 rows\n",
      "\n"
     ]
    }
   ],
   "source": [
    "from pyspark.sql import SparkSession\n",
    "from pyspark.ml.feature import Imputer,VectorAssembler,StringIndexer\n",
    "from pyspark.ml.feature import OneHotEncoder\n",
    "from pyspark.ml.classification import RandomForestClassifier\n",
    "from pyspark.ml.tuning import CrossValidator,ParamGridBuilder\n",
    "from pyspark.ml.evaluation import MulticlassClassificationEvaluator\n",
    "from pyspark.ml.tuning import TrainValidationSplit,ParamGridBuilder\n",
    "from pyspark.ml.classification import GBTClassifier\n",
    "from pyspark.sql.functions import UserDefinedFunction\n",
    "from pyspark.sql.types import StringType,ArrayType\n",
    "from matplotlib import pyplot as plt\n",
    "from pyspark.ml.classification import DecisionTreeClassifier\n",
    "from pyspark.mllib.util import MLUtils\n",
    "from pyspark.ml.classification import GBTParams\n",
    "from pyspark.ml.classification import LogisticRegression\n",
    "\n",
    "spark = SparkSession.builder.appName(\"IRIS Classification App\").getOrCreate()\n",
    "df =spark.read\\\n",
    "        .option(\"inferSchema\",\"true\")\\\n",
    "        .option(\"delimiter\",\",\")\\\n",
    "        .csv(\"/home/ercan/Desktop/hadoop/datasets/leaf.csv\")\n",
    "df = df.withColumnRenamed(\"_c0\",\"label\")\n",
    "\n",
    "df.show(2)\n",
    "df.printSchema()\n",
    "df = df.drop(\"_c1\")\n",
    "df.show(2)\n",
    "\n",
    "vA = VectorAssembler(inputCols=df.columns[1:],\n",
    "                     outputCol=\"features\")\n",
    "df = vA.transform(df)\n",
    "df = df.select(\"features\",\"label\")\n",
    "df.show(2)"
   ]
  },
  {
   "cell_type": "markdown",
   "metadata": {},
   "source": [
    "## RandomForestClassifier with Cross Validation"
   ]
  },
  {
   "cell_type": "code",
   "execution_count": 2,
   "metadata": {},
   "outputs": [
    {
     "name": "stdout",
     "output_type": "stream",
     "text": [
      "Accuracy =  0.7840909090909091\n",
      "Num Trees :  20\n",
      "Max Depth :  10\n",
      "Impurity :   gini\n"
     ]
    }
   ],
   "source": [
    "(trainDF, testDF) = df.randomSplit([0.75,0.25],seed=444)\n",
    "rfClassifier = RandomForestClassifier()\n",
    "myEvaluator = MulticlassClassificationEvaluator(metricName=\"accuracy\")\n",
    "\n",
    "myParams = ParamGridBuilder()\\\n",
    "            .addGrid(rfClassifier.numTrees,[20])\\\n",
    "            .addGrid(rfClassifier.maxDepth,[10])\\\n",
    "            .build()\n",
    "\n",
    "validator = CrossValidator(estimator=rfClassifier,\n",
    "                                  estimatorParamMaps=myParams,\n",
    "                                   evaluator = myEvaluator,\n",
    "                                    numFolds=4\n",
    "                                    )\n",
    "\n",
    "\n",
    "bestModelRF = validator.fit(trainDF)\n",
    "resultDF = bestModelRF.transform(testDF)\n",
    "\n",
    "result = myEvaluator.evaluate(resultDF)\n",
    "print(\"Accuracy = \",result)\n",
    "\n",
    "print(\"Num Trees : \",bestModelRF.bestModel._java_obj.getNumTrees())\n",
    "print(\"Max Depth : \",bestModelRF.bestModel._java_obj.getMaxDepth())\n",
    "print(\"Impurity :  \",bestModelRF.bestModel._java_obj.getImpurity())\n"
   ]
  },
  {
   "cell_type": "markdown",
   "metadata": {},
   "source": [
    "## RandomForestClassifier with TrainValidationSplit"
   ]
  },
  {
   "cell_type": "code",
   "execution_count": 3,
   "metadata": {},
   "outputs": [
    {
     "name": "stdout",
     "output_type": "stream",
     "text": [
      "Accuracy =  0.75\n",
      "Num Trees :  20\n",
      "Max Depth :  15\n",
      "Impurity :   gini\n"
     ]
    }
   ],
   "source": [
    "(trainDF, testDF) = df.randomSplit([0.75,0.25],seed=444)\n",
    "rfClassifier = RandomForestClassifier()\n",
    "myEvaluator = MulticlassClassificationEvaluator(metricName=\"accuracy\")\n",
    "\n",
    "\n",
    "myParams = ParamGridBuilder()\\\n",
    "            .addGrid(rfClassifier.numTrees,[20])\\\n",
    "            .addGrid(rfClassifier.maxDepth,[15])\\\n",
    "            .build()\n",
    "\n",
    "validator = TrainValidationSplit( estimator=rfClassifier,\n",
    "                                  estimatorParamMaps=myParams,\n",
    "                                  trainRatio=0.75,\n",
    "                                   evaluator = myEvaluator\n",
    "                                    )\n",
    "\n",
    "\n",
    "bestModelRF = validator.fit(trainDF)\n",
    "resultDF = bestModelRF.transform(testDF)\n",
    "\n",
    "result = myEvaluator.evaluate(resultDF)\n",
    "print(\"Accuracy = \",result)\n",
    "\n",
    "print(\"Num Trees : \",bestModelRF.bestModel._java_obj.getNumTrees())\n",
    "print(\"Max Depth : \",bestModelRF.bestModel._java_obj.getMaxDepth())\n",
    "print(\"Impurity :  \",bestModelRF.bestModel._java_obj.getImpurity())\n"
   ]
  },
  {
   "cell_type": "markdown",
   "metadata": {},
   "source": [
    "## DecisionTreeClassifier with TrainValidationSplit"
   ]
  },
  {
   "cell_type": "code",
   "execution_count": 24,
   "metadata": {},
   "outputs": [
    {
     "name": "stdout",
     "output_type": "stream",
     "text": [
      "Accuracy =  0.6206896551724138\n",
      "Max Depth :  10\n",
      "Impurity :   gini\n"
     ]
    }
   ],
   "source": [
    "(trainDF, testDF) = df.randomSplit([0.75,0.25],seed=4444)\n",
    "\n",
    "\n",
    "dtClassifier = DecisionTreeClassifier()\n",
    "myEvaluator = MulticlassClassificationEvaluator(metricName=\"accuracy\")\n",
    "\n",
    "myParams = ParamGridBuilder()\\\n",
    "            .addGrid(dtClassifier.maxDepth,[10])\\\n",
    "            .addGrid(dtClassifier.maxBins,[8])\\\n",
    "            .build()\n",
    "\n",
    "validator = TrainValidationSplit( estimator=dtClassifier,\n",
    "                                  estimatorParamMaps=myParams,\n",
    "                                  trainRatio=0.75,\n",
    "                                   evaluator = myEvaluator,\n",
    "                                    )\n",
    "\n",
    "bestModelDT = validator.fit(trainDF)\n",
    "resultDF = bestModelDT.transform(testDF)\n",
    "\n",
    "result = myEvaluator.evaluate(resultDF)\n",
    "print(\"Accuracy = \",result)\n",
    "\n",
    "print(\"Max Depth : \",bestModelDT.bestModel._java_obj.getMaxDepth())\n",
    "print(\"Impurity :  \",bestModelDT.bestModel._java_obj.getImpurity())\n",
    "\n"
   ]
  },
  {
   "cell_type": "markdown",
   "metadata": {},
   "source": [
    "## DecisionTreeClassifier with CrossValidator"
   ]
  },
  {
   "cell_type": "code",
   "execution_count": 18,
   "metadata": {},
   "outputs": [
    {
     "name": "stdout",
     "output_type": "stream",
     "text": [
      "Accuracy =  0.6436781609195402\n",
      "Max Depth :  15\n",
      "Impurity :   gini\n"
     ]
    }
   ],
   "source": [
    "(trainDF, testDF) = df.randomSplit([0.75,0.25],seed=4444)\n",
    "\n",
    "dtClassifier = DecisionTreeClassifier()\n",
    "myEvaluator = MulticlassClassificationEvaluator(metricName=\"accuracy\")\n",
    "\n",
    "myParams = ParamGridBuilder()\\\n",
    "            .addGrid(dtClassifier.maxDepth,[15])\\\n",
    "            .build()\n",
    "\n",
    "validator = CrossValidator(estimator=dtClassifier,\n",
    "                                  estimatorParamMaps=myParams,\n",
    "                                   evaluator = myEvaluator,\n",
    "                                    numFolds=4\n",
    "                                    )\n",
    "\n",
    "bestModelDT = validator.fit(trainDF)\n",
    "resultDF = bestModelDT.transform(testDF)\n",
    "\n",
    "result = myEvaluator.evaluate(resultDF)\n",
    "print(\"Accuracy = \",result)\n",
    "\n",
    "print(\"Max Depth : \",bestModelDT.bestModel._java_obj.getMaxDepth())\n",
    "print(\"Impurity :  \",bestModelDT.bestModel._java_obj.getImpurity())\n",
    "\n"
   ]
  },
  {
   "cell_type": "markdown",
   "metadata": {},
   "source": []
  },
  {
   "cell_type": "markdown",
   "metadata": {},
   "source": [
    "## LogisticRegression with CrossValidator"
   ]
  },
  {
   "cell_type": "code",
   "execution_count": 9,
   "metadata": {},
   "outputs": [
    {
     "name": "stdout",
     "output_type": "stream",
     "text": [
      "Accuracy =  0.967032967032967\n"
     ]
    }
   ],
   "source": [
    "(trainDF, testDF) = df.randomSplit([0.75,0.25],seed=112)\n",
    "lrClassifier = LogisticRegression()\n",
    "myEvaluator = MulticlassClassificationEvaluator(metricName=\"accuracy\")\n",
    "\n",
    "myParams = ParamGridBuilder()\\\n",
    "            .addGrid(lrClassifier.maxIter,[10])\\\n",
    "            .addGrid(lrClassifier.regParam,[0.3])\\\n",
    "            .addGrid(lrClassifier.elasticNetParam,[0.8])\\\n",
    "            .build()\n",
    "\n",
    "validator = CrossValidator(estimator=lrClassifier,\n",
    "                                  estimatorParamMaps=myParams,\n",
    "                                   evaluator = myEvaluator,\n",
    "                                    numFolds=4\n",
    "                                    )\n",
    "\n",
    "\n",
    "bestModelLR = validator.fit(trainDF)\n",
    "resultDF = bestModelRF.transform(testDF)\n",
    "\n",
    "result = myEvaluator.evaluate(resultDF)\n",
    "print(\"Accuracy = \",result)\n",
    "\n"
   ]
  },
  {
   "cell_type": "markdown",
   "metadata": {},
   "source": [
    "## LogisticRegression with TrainValidationSplit"
   ]
  },
  {
   "cell_type": "code",
   "execution_count": 10,
   "metadata": {},
   "outputs": [
    {
     "name": "stdout",
     "output_type": "stream",
     "text": [
      "Accuracy =  0.9176470588235294\n"
     ]
    }
   ],
   "source": [
    "(trainDF, testDF) = df.randomSplit([0.75,0.25],seed=1112)\n",
    "lrClassifier = LogisticRegression()\n",
    "myEvaluator = MulticlassClassificationEvaluator(metricName=\"accuracy\")\n",
    "\n",
    "myParams = ParamGridBuilder()\\\n",
    "            .addGrid(lrClassifier.maxIter,[10])\\\n",
    "            .addGrid(lrClassifier.regParam,[0.3])\\\n",
    "            .addGrid(lrClassifier.elasticNetParam,[0.8])\\\n",
    "            .build()\n",
    "\n",
    "validator = TrainValidationSplit( estimator=lrClassifier,\n",
    "                                  estimatorParamMaps=myParams,\n",
    "                                  trainRatio=0.75,\n",
    "                                   evaluator = myEvaluator,\n",
    "                                    )\n",
    "\n",
    "\n",
    "bestModelLR = validator.fit(trainDF)\n",
    "resultDF = bestModelRF.transform(testDF)\n",
    "\n",
    "result = myEvaluator.evaluate(resultDF)\n",
    "print(\"Accuracy = \",result)\n"
   ]
  },
  {
   "cell_type": "markdown",
   "metadata": {},
   "source": []
  }
 ],
 "metadata": {
  "kernelspec": {
   "display_name": "Python 3",
   "language": "python",
   "name": "python3"
  },
  "language_info": {
   "codemirror_mode": {
    "name": "ipython",
    "version": 3
   },
   "file_extension": ".py",
   "mimetype": "text/x-python",
   "name": "python",
   "nbconvert_exporter": "python",
   "pygments_lexer": "ipython3",
   "version": "3.7.3"
  }
 },
 "nbformat": 4,
 "nbformat_minor": 2
}
