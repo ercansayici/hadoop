{
 "cells": [
  {
   "cell_type": "code",
   "execution_count": 2,
   "metadata": {},
   "outputs": [
    {
     "name": "stdout",
     "output_type": "stream",
     "text": [
      "[('03-01-2005-31-12-2004', 1001566.1641791044), ('27-02-2001-26-02-2001', 0.13387001667536716), ('31-10-2008-30-10-2008', 0.12666666666666662), ('25-03-1991-22-03-1991', 0.122293930234458), ('11-04-1994-08-04-1994', 0.09863817067204128)]\n"
     ]
    }
   ],
   "source": [
    "from pyspark import SparkContext\n",
    "sc = SparkContext.getOrCreate()\n",
    "\n",
    "rdd=sc.textFile(\"/home/ercan/Desktop/hadoop/datasets/DolarVerileri.txt\")\n",
    "rdd = rdd.map(lambda line : line.replace(\".\",\"\").replace(\",\",\".\"))\n",
    "rdd = rdd.filter(lambda line : len(line.split(\"\\t\")[2]) > 0)\n",
    "\n",
    "def splitLine(line):\n",
    "    x = line.split(\"\\t\")\n",
    "    return (x[1],float(x[2]))\n",
    "rdd = rdd.map(lambda line : splitLine(line) )\n",
    "rdd1 = rdd.zipWithIndex().map(lambda x : (x[1],x[0]))\n",
    "rdd2 = rdd1.map(lambda x: (x[0]+1,x[1]))\n",
    "\n",
    "joinedRDD = rdd1.join(rdd2).sortBy(lambda x: x[0])\n",
    "\n",
    "def calculateDiffAndPer(item):\n",
    "    prevDay = item[1][0][1]\n",
    "    curDay = item[1][1][1]\n",
    "    dates = item[1][0][0]+\"-\"+item[1][1][0]\n",
    "    percentage = (curDay-prevDay)/prevDay\n",
    "    return (dates,percentage)\n",
    "\n",
    "joinedRDD=joinedRDD.map(lambda x : calculateDiffAndPer(x))\n",
    "joinedRDD=joinedRDD.sortBy(lambda x :x[1],ascending=False)\n",
    "\n",
    "print(joinedRDD.take(5))\n",
    "\n",
    "\n"
   ]
  },
  {
   "cell_type": "code",
   "execution_count": null,
   "metadata": {},
   "outputs": [],
   "source": []
  }
 ],
 "metadata": {
  "kernelspec": {
   "display_name": "Python 3",
   "language": "python",
   "name": "python3"
  },
  "language_info": {
   "codemirror_mode": {
    "name": "ipython",
    "version": 3
   },
   "file_extension": ".py",
   "mimetype": "text/x-python",
   "name": "python",
   "nbconvert_exporter": "python",
   "pygments_lexer": "ipython3",
   "version": "3.7.3"
  }
 },
 "nbformat": 4,
 "nbformat_minor": 2
}
